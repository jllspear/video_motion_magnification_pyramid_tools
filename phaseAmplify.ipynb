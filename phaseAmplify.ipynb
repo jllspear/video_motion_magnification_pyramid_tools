{
 "cells": [
  {
   "cell_type": "code",
   "execution_count": 4,
   "metadata": {
    "collapsed": false,
    "jupyter": {
     "outputs_hidden": false
    }
   },
   "outputs": [
    {
     "name": "stdout",
     "output_type": "stream",
     "text": [
      "Populating the interactive namespace from numpy and matplotlib\n"
     ]
    },
    {
     "name": "stderr",
     "output_type": "stream",
     "text": [
      "C:\\Users\\Zheryu\\Anaconda3\\envs\\image-processing\\lib\\site-packages\\IPython\\core\\magics\\pylab.py:161: UserWarning: pylab import has clobbered these variables: ['ifft']\n",
      "`%matplotlib` prevents importing * from pylab and numpy\n",
      "  \"\\n`%matplotlib` prevents importing * from pylab and numpy\"\n"
     ]
    }
   ],
   "source": [
    "%pylab inline"
   ]
  },
  {
   "cell_type": "markdown",
   "metadata": {},
   "source": [
    "#### Import"
   ]
  },
  {
   "cell_type": "code",
   "execution_count": 1,
   "metadata": {
    "collapsed": false,
    "jupyter": {
     "outputs_hidden": false
    }
   },
   "outputs": [],
   "source": [
    "import numpy as np\n",
    "import pyfftw.interfaces.scipy_fftpack as spfft\n",
    "import scipy.signal as spsignal\n",
    "import skimage.transform as sktransform\n",
    "import matplotlib.pyplot as plt"
   ]
  },
  {
   "cell_type": "code",
   "execution_count": 2,
   "metadata": {
    "collapsed": false,
    "jupyter": {
     "outputs_hidden": false
    }
   },
   "outputs": [],
   "source": [
    "from filter_tools import *\n",
    "from util import *\n",
    "from pyramid_tools import *"
   ]
  },
  {
   "cell_type": "code",
   "execution_count": 3,
   "metadata": {},
   "outputs": [
    {
     "name": "stderr",
     "output_type": "stream",
     "text": [
      "<>:12: SyntaxWarning: \"is\" with a literal. Did you mean \"==\"?\n",
      "<>:15: SyntaxWarning: \"is\" with a literal. Did you mean \"==\"?\n",
      "<>:18: SyntaxWarning: \"is\" with a literal. Did you mean \"==\"?\n",
      "<>:21: SyntaxWarning: \"is\" with a literal. Did you mean \"==\"?\n",
      "<>:12: SyntaxWarning: \"is\" with a literal. Did you mean \"==\"?\n",
      "<>:15: SyntaxWarning: \"is\" with a literal. Did you mean \"==\"?\n",
      "<>:18: SyntaxWarning: \"is\" with a literal. Did you mean \"==\"?\n",
      "<>:21: SyntaxWarning: \"is\" with a literal. Did you mean \"==\"?\n",
      "/tmp/ipykernel_15376/321223522.py:12: SyntaxWarning: \"is\" with a literal. Did you mean \"==\"?\n",
      "  if pyr_type is \"octave\":\n",
      "/tmp/ipykernel_15376/321223522.py:15: SyntaxWarning: \"is\" with a literal. Did you mean \"==\"?\n",
      "  elif pyr_type is \"halfOctave\":\n",
      "/tmp/ipykernel_15376/321223522.py:18: SyntaxWarning: \"is\" with a literal. Did you mean \"==\"?\n",
      "  elif pyr_type is \"smoothHalfOctave\":\n",
      "/tmp/ipykernel_15376/321223522.py:21: SyntaxWarning: \"is\" with a literal. Did you mean \"==\"?\n",
      "  elif pyr_type is \"quarterOctave\":\n"
     ]
    }
   ],
   "source": [
    "    \n",
    "\n",
    "\n",
    "def phase_amplify(video, \n",
    "                  magnification_factor, \n",
    "                  fl, fh, fs, \n",
    "                  attenuate_other_frequencies=False, \n",
    "                  pyramid_type=\"octave\", \n",
    "                  sigma=0, \n",
    "                  temporal_filter=fir_window_bp\n",
    "                 ):\n",
    "    num_frames, h, w, num_channels = video.shape\n",
    "    pyr_height = max_scf_pyr_height((h, w))\n",
    "\n",
    "    if pyr_type is \"octave\":\n",
    "        print(\"Using vanilla octave pyramid\")\n",
    "        filters = get_filters((h, w), 2**np.array(list(range(0,-pyr_height-1,-1)), dtype=float), 4)\n",
    "    elif pyr_type is \"halfOctave\":\n",
    "        print(\"Using half octave pyramid\")\n",
    "        filters = get_filters((h, w), 2**np.array(list(range(0,-pyr_height-1,-1)), dtype=float), 8, t_width=0.75)\n",
    "    elif pyr_type is \"smoothHalfOctave\":\n",
    "        print(\"Using smooth half octave pyramid.\")\n",
    "        filters = get_filters_smooth_window((h, w), 8, filters_per_octave=2)\n",
    "    elif pyr_type is \"quarterOctave\":\n",
    "        print(\"Using quarter octave pyramid.\")\n",
    "        filters = get_filters_smooth_window((h, w), 8, filters_per_octave=4)\n",
    "    else:\n",
    "        print(\"Invalid filter type. Specify ocatave, halfOcatave, smoothHalfOctave, or quarterOctave\")\n",
    "        return None\n",
    "    print('Number of filters: ', len(filters))\n",
    "    \n",
    "    yiq_video = np.zeros((num_frames, h, w, num_channels))\n",
    "    fft_video = np.zeros((num_frames, h, w), dtype=complex64)\n",
    "\n",
    "    for i in range(num_frames):\n",
    "        yiq_video[i] = rgb2yiq(video[i])\n",
    "        fft_video[i] = spfft.fftshift(spfft.fft2(yiq_video[i][:,:,0]))\n",
    "\n",
    "    magnified_y_channel = np.zeros((num_frames, h, w), dtype=complex64)\n",
    "    dc_frame_index = 0\n",
    "\n",
    "    \n",
    "    for i in range(1,len(filters)-1):\n",
    "        print(\"processing level \"+str(i))\n",
    "\n",
    "        dc_frame = spfft.ifft2(spfft.ifftshift(filters[i]*fft_video[dc_frame_index]))    \n",
    "        dc_frame_no_mag = dc_frame / np.abs(dc_frame)\n",
    "        dc_frame_phase = np.angle(dc_frame)\n",
    "\n",
    "        total = np.zeros(fft_video.shape, dtype=float)\n",
    "        filtered = np.zeros(fft_video.shape, dtype=complex64)\n",
    "\n",
    "        for j in range(num_frames):\n",
    "            filtered[j] = spfft.ifft2(spfft.ifftshift(filters[i]*fft_video[j]))\n",
    "            total[j] = simplify_phase(np.angle(filtered[j]) - dc_frame_phase)\n",
    "\n",
    "        print(\"bandpassing...\")\n",
    "        total = temporal_filter(total, fl/fs, fh/fs).astype(float)\n",
    "\n",
    "        for j in range(num_frames):\n",
    "            phase_of_frame = total[j]\n",
    "            if sigma != 0:\n",
    "                phase_of_frame = amplitude_weighted_blur(phase_of_frame, np.abs(filtered[j]), sigma)\n",
    "\n",
    "            phase_of_frame *= magnification_factor\n",
    "\n",
    "            if attenuate_other_frequencies:\n",
    "                temp_orig = np.abs(filtered[j])*dc_frame_no_mag\n",
    "            else:\n",
    "                temp_orig = filtered[j]\n",
    "            magnified_component = 2*filters[i]*spfft.fftshift(spfft.fft2(temp_orig*np.exp(1j*phase_of_frame)))\n",
    "\n",
    "            magnified_y_channel[j] = magnified_y_channel[j] + magnified_component\n",
    "\n",
    "    for i in range(num_frames):\n",
    "            magnified_y_channel[i] = magnified_y_channel[i] + (fft_video[i]*(filters[-1]**2))\n",
    "\n",
    "    out = np.zeros(yiq_video.shape[:-1])\n",
    "    print(out.shape)\n",
    "\n",
    "    for i in range(num_frames):\n",
    "        # color\n",
    "        out_frame  = np.dstack((np.real(spfft.ifft2(spfft.ifftshift(magnified_y_channel[i]))), yiq_video[i,:,:,1:3]))\n",
    "        out[i] = yiq2rgb(out_frame)\n",
    "        # monochrome\n",
    "        # out[i] = out_frame\n",
    "        # out_frame  = np.real(spfft.ifft2(spfft.ifftshift(magnified_y_channel[i])))\n",
    "\n",
    "    return out.clip(min=0, max=1)\n"
   ]
  },
  {
   "cell_type": "markdown",
   "metadata": {},
   "source": [
    "### Load the resources"
   ]
  },
  {
   "cell_type": "code",
   "execution_count": 3,
   "metadata": {},
   "outputs": [
    {
     "name": "stderr",
     "output_type": "stream",
     "text": [
      "The frame size for reading (1080, 1920) is different from the source frame size (1920, 1080).\n"
     ]
    },
    {
     "data": {
      "text/plain": [
       "(243, 1920, 1080, 3)"
      ]
     },
     "execution_count": 3,
     "metadata": {},
     "output_type": "execute_result"
    }
   ],
   "source": [
    "video_file = 'IMG_0339_ext.MOV'\n",
    "video = load_video(video_file)\n",
    "video.shape"
   ]
  },
  {
   "cell_type": "code",
   "execution_count": 21,
   "metadata": {},
   "outputs": [
    {
     "data": {
      "text/plain": [
       "\u001b[0;31mSignature:\u001b[0m \u001b[0mload_video\u001b[0m\u001b[0;34m(\u001b[0m\u001b[0mfilename\u001b[0m\u001b[0;34m)\u001b[0m\u001b[0;34m\u001b[0m\u001b[0;34m\u001b[0m\u001b[0m\n",
       "\u001b[0;31mDocstring:\u001b[0m <no docstring>\n",
       "\u001b[0;31mFile:\u001b[0m      ~/code/optimaize/magnifier_miscelaneous_code/video_motion_magnification_pyramid_tools/util.py\n",
       "\u001b[0;31mType:\u001b[0m      function\n"
      ]
     },
     "metadata": {},
     "output_type": "display_data"
    }
   ],
   "source": [
    "load_video?"
   ]
  },
  {
   "cell_type": "code",
   "execution_count": 18,
   "metadata": {
    "collapsed": false,
    "jupyter": {
     "outputs_hidden": false
    }
   },
   "outputs": [],
   "source": [
    "magnification_factor = 50\n",
    "fl = 12\n",
    "fh = 18\n",
    "fs = 240\n",
    "attenuate_other_frequencies=False # False\n",
    "pyr_type = \"octave\"\n",
    "sigma = 5 # 5\n",
    "temporal_filter =  iir_butter #fir_window_bp, iir_butter\n"
   ]
  },
  {
   "cell_type": "markdown",
   "metadata": {},
   "source": [
    "#### Resize our video"
   ]
  },
  {
   "cell_type": "code",
   "execution_count": 15,
   "metadata": {
    "collapsed": false,
    "jupyter": {
     "outputs_hidden": false
    }
   },
   "outputs": [],
   "source": [
    "# video2 = np.zeros((len(video), 200, 200, 3))\n",
    "# for i in range(len(video)):\n",
    "#     video2[i] = sktransform.resize(video[i], (200,200))"
   ]
  },
  {
   "cell_type": "markdown",
   "metadata": {},
   "source": [
    "# RUN"
   ]
  },
  {
   "cell_type": "code",
   "execution_count": 19,
   "metadata": {
    "collapsed": true,
    "jupyter": {
     "outputs_hidden": true
    },
    "tags": []
   },
   "outputs": [
    {
     "name": "stdout",
     "output_type": "stream",
     "text": [
      "Using vanilla octave pyramid\n",
      "Number of filters:  30\n",
      "processing level 1\n",
      "bandpassing...\n",
      "Using bandpass filter (butter).\n",
      "processing level 2\n",
      "bandpassing...\n",
      "Using bandpass filter (butter).\n",
      "processing level 3\n",
      "bandpassing...\n",
      "Using bandpass filter (butter).\n",
      "processing level 4\n",
      "bandpassing...\n",
      "Using bandpass filter (butter).\n",
      "processing level 5\n",
      "bandpassing...\n",
      "Using bandpass filter (butter).\n",
      "processing level 6\n",
      "bandpassing...\n",
      "Using bandpass filter (butter).\n",
      "processing level 7\n",
      "bandpassing...\n",
      "Using bandpass filter (butter).\n",
      "processing level 8\n",
      "bandpassing...\n",
      "Using bandpass filter (butter).\n",
      "processing level 9\n",
      "bandpassing...\n",
      "Using bandpass filter (butter).\n",
      "processing level 10\n",
      "bandpassing...\n",
      "Using bandpass filter (butter).\n",
      "processing level 11\n",
      "bandpassing...\n",
      "Using bandpass filter (butter).\n",
      "processing level 12\n",
      "bandpassing...\n",
      "Using bandpass filter (butter).\n",
      "processing level 13\n",
      "bandpassing...\n",
      "Using bandpass filter (butter).\n",
      "processing level 14\n",
      "bandpassing...\n",
      "Using bandpass filter (butter).\n",
      "processing level 15\n",
      "bandpassing...\n",
      "Using bandpass filter (butter).\n",
      "processing level 16\n",
      "bandpassing...\n",
      "Using bandpass filter (butter).\n",
      "processing level 17\n",
      "bandpassing...\n",
      "Using bandpass filter (butter).\n",
      "processing level 18\n",
      "bandpassing...\n",
      "Using bandpass filter (butter).\n",
      "processing level 19\n",
      "bandpassing...\n",
      "Using bandpass filter (butter).\n",
      "processing level 20\n",
      "bandpassing...\n",
      "Using bandpass filter (butter).\n",
      "processing level 21\n",
      "bandpassing...\n",
      "Using bandpass filter (butter).\n",
      "processing level 22\n",
      "bandpassing...\n",
      "Using bandpass filter (butter).\n",
      "processing level 23\n",
      "bandpassing...\n",
      "Using bandpass filter (butter).\n",
      "processing level 24\n",
      "bandpassing...\n",
      "Using bandpass filter (butter).\n",
      "processing level 25\n",
      "bandpassing...\n",
      "Using bandpass filter (butter).\n",
      "processing level 26\n",
      "bandpassing...\n",
      "Using bandpass filter (butter).\n",
      "processing level 27\n",
      "bandpassing...\n",
      "Using bandpass filter (butter).\n",
      "processing level 28\n",
      "bandpassing...\n",
      "Using bandpass filter (butter).\n",
      "(60, 670, 1344)\n"
     ]
    }
   ],
   "source": [
    "video_out = phase_amplify(\n",
    "    video[200:260,:,:,:], \n",
    "    magnification_factor, \n",
    "    fl, \n",
    "    fh, \n",
    "    fs, \n",
    "    attenuate_other_frequencies=attenuate_other_frequencies, \n",
    "    pyramid_type=pyr_type, \n",
    "    sigma=sigma, \n",
    "    temporal_filter=temporal_filter\n",
    ")"
   ]
  },
  {
   "cell_type": "code",
   "execution_count": 20,
   "metadata": {
    "collapsed": true,
    "jupyter": {
     "outputs_hidden": true
    },
    "tags": []
   },
   "outputs": [
    {
     "name": "stderr",
     "output_type": "stream",
     "text": [
      "Lossy conversion from float64 to uint8. Range [0, 1]. Convert image to uint8 prior to saving to suppress this warning.\n",
      "IMAGEIO FFMPEG_WRITER WARNING: input image is not divisible by macro_block_size=16, resizing from (1344, 670) to (1344, 672) to ensure video compatibility with most codecs and players. To prevent resizing, make your input image divisible by the macro_block_size or set the macro_block_size to 1 (risking incompatibility).\n",
      "Lossy conversion from float64 to uint8. Range [0, 1]. Convert image to uint8 prior to saving to suppress this warning.\n",
      "Lossy conversion from float64 to uint8. Range [0, 1]. Convert image to uint8 prior to saving to suppress this warning.\n",
      "Lossy conversion from float64 to uint8. Range [0, 1]. Convert image to uint8 prior to saving to suppress this warning.\n",
      "Lossy conversion from float64 to uint8. Range [0, 1]. Convert image to uint8 prior to saving to suppress this warning.\n",
      "Lossy conversion from float64 to uint8. Range [0, 1]. Convert image to uint8 prior to saving to suppress this warning.\n",
      "Lossy conversion from float64 to uint8. Range [0, 1]. Convert image to uint8 prior to saving to suppress this warning.\n",
      "Lossy conversion from float64 to uint8. Range [0, 1]. Convert image to uint8 prior to saving to suppress this warning.\n",
      "Lossy conversion from float64 to uint8. Range [0, 1]. Convert image to uint8 prior to saving to suppress this warning.\n",
      "Lossy conversion from float64 to uint8. Range [0, 1]. Convert image to uint8 prior to saving to suppress this warning.\n",
      "Lossy conversion from float64 to uint8. Range [0, 1]. Convert image to uint8 prior to saving to suppress this warning.\n",
      "Lossy conversion from float64 to uint8. Range [0, 1]. Convert image to uint8 prior to saving to suppress this warning.\n",
      "Lossy conversion from float64 to uint8. Range [0, 1]. Convert image to uint8 prior to saving to suppress this warning.\n",
      "Lossy conversion from float64 to uint8. Range [0, 1]. Convert image to uint8 prior to saving to suppress this warning.\n",
      "Lossy conversion from float64 to uint8. Range [0, 1]. Convert image to uint8 prior to saving to suppress this warning.\n",
      "Lossy conversion from float64 to uint8. Range [0, 1]. Convert image to uint8 prior to saving to suppress this warning.\n",
      "Lossy conversion from float64 to uint8. Range [0, 1]. Convert image to uint8 prior to saving to suppress this warning.\n",
      "Lossy conversion from float64 to uint8. Range [0, 1]. Convert image to uint8 prior to saving to suppress this warning.\n",
      "Lossy conversion from float64 to uint8. Range [0, 1]. Convert image to uint8 prior to saving to suppress this warning.\n",
      "Lossy conversion from float64 to uint8. Range [0, 1]. Convert image to uint8 prior to saving to suppress this warning.\n",
      "Lossy conversion from float64 to uint8. Range [0, 1]. Convert image to uint8 prior to saving to suppress this warning.\n",
      "Lossy conversion from float64 to uint8. Range [0, 1]. Convert image to uint8 prior to saving to suppress this warning.\n",
      "Lossy conversion from float64 to uint8. Range [0, 1]. Convert image to uint8 prior to saving to suppress this warning.\n",
      "Lossy conversion from float64 to uint8. Range [0, 1]. Convert image to uint8 prior to saving to suppress this warning.\n",
      "Lossy conversion from float64 to uint8. Range [0, 1]. Convert image to uint8 prior to saving to suppress this warning.\n",
      "Lossy conversion from float64 to uint8. Range [0, 1]. Convert image to uint8 prior to saving to suppress this warning.\n",
      "Lossy conversion from float64 to uint8. Range [0, 1]. Convert image to uint8 prior to saving to suppress this warning.\n",
      "Lossy conversion from float64 to uint8. Range [0, 1]. Convert image to uint8 prior to saving to suppress this warning.\n",
      "Lossy conversion from float64 to uint8. Range [0, 1]. Convert image to uint8 prior to saving to suppress this warning.\n",
      "Lossy conversion from float64 to uint8. Range [0, 1]. Convert image to uint8 prior to saving to suppress this warning.\n",
      "Lossy conversion from float64 to uint8. Range [0, 1]. Convert image to uint8 prior to saving to suppress this warning.\n",
      "Lossy conversion from float64 to uint8. Range [0, 1]. Convert image to uint8 prior to saving to suppress this warning.\n",
      "Lossy conversion from float64 to uint8. Range [0, 1]. Convert image to uint8 prior to saving to suppress this warning.\n",
      "Lossy conversion from float64 to uint8. Range [0, 1]. Convert image to uint8 prior to saving to suppress this warning.\n",
      "Lossy conversion from float64 to uint8. Range [0, 1]. Convert image to uint8 prior to saving to suppress this warning.\n",
      "Lossy conversion from float64 to uint8. Range [0, 1]. Convert image to uint8 prior to saving to suppress this warning.\n",
      "Lossy conversion from float64 to uint8. Range [0, 1]. Convert image to uint8 prior to saving to suppress this warning.\n",
      "Lossy conversion from float64 to uint8. Range [0, 1]. Convert image to uint8 prior to saving to suppress this warning.\n",
      "Lossy conversion from float64 to uint8. Range [0, 1]. Convert image to uint8 prior to saving to suppress this warning.\n",
      "Lossy conversion from float64 to uint8. Range [0, 1]. Convert image to uint8 prior to saving to suppress this warning.\n",
      "Lossy conversion from float64 to uint8. Range [0, 1]. Convert image to uint8 prior to saving to suppress this warning.\n",
      "Lossy conversion from float64 to uint8. Range [0, 1]. Convert image to uint8 prior to saving to suppress this warning.\n",
      "Lossy conversion from float64 to uint8. Range [0, 1]. Convert image to uint8 prior to saving to suppress this warning.\n",
      "Lossy conversion from float64 to uint8. Range [0, 1]. Convert image to uint8 prior to saving to suppress this warning.\n",
      "Lossy conversion from float64 to uint8. Range [0, 1]. Convert image to uint8 prior to saving to suppress this warning.\n",
      "Lossy conversion from float64 to uint8. Range [0, 1]. Convert image to uint8 prior to saving to suppress this warning.\n",
      "Lossy conversion from float64 to uint8. Range [0, 1]. Convert image to uint8 prior to saving to suppress this warning.\n",
      "Lossy conversion from float64 to uint8. Range [0, 1]. Convert image to uint8 prior to saving to suppress this warning.\n",
      "Lossy conversion from float64 to uint8. Range [0, 1]. Convert image to uint8 prior to saving to suppress this warning.\n",
      "Lossy conversion from float64 to uint8. Range [0, 1]. Convert image to uint8 prior to saving to suppress this warning.\n",
      "Lossy conversion from float64 to uint8. Range [0, 1]. Convert image to uint8 prior to saving to suppress this warning.\n",
      "Lossy conversion from float64 to uint8. Range [0, 1]. Convert image to uint8 prior to saving to suppress this warning.\n",
      "Lossy conversion from float64 to uint8. Range [0, 1]. Convert image to uint8 prior to saving to suppress this warning.\n",
      "Lossy conversion from float64 to uint8. Range [0, 1]. Convert image to uint8 prior to saving to suppress this warning.\n",
      "Lossy conversion from float64 to uint8. Range [0, 1]. Convert image to uint8 prior to saving to suppress this warning.\n",
      "Lossy conversion from float64 to uint8. Range [0, 1]. Convert image to uint8 prior to saving to suppress this warning.\n",
      "Lossy conversion from float64 to uint8. Range [0, 1]. Convert image to uint8 prior to saving to suppress this warning.\n",
      "Lossy conversion from float64 to uint8. Range [0, 1]. Convert image to uint8 prior to saving to suppress this warning.\n",
      "Lossy conversion from float64 to uint8. Range [0, 1]. Convert image to uint8 prior to saving to suppress this warning.\n",
      "Lossy conversion from float64 to uint8. Range [0, 1]. Convert image to uint8 prior to saving to suppress this warning.\n"
     ]
    }
   ],
   "source": [
    "fps = 30\n",
    "video_out_name = 'IMG_0368_out_octave_50x_12-18Hz_5sig_iir_butter_bp_grayscale.mp4'\n",
    "write_video(video_out, fps, video_out_name)"
   ]
  },
  {
   "cell_type": "code",
   "execution_count": null,
   "metadata": {},
   "outputs": [],
   "source": []
  },
  {
   "cell_type": "code",
   "execution_count": null,
   "metadata": {},
   "outputs": [],
   "source": []
  },
  {
   "cell_type": "markdown",
   "metadata": {},
   "source": [
    "# TESTS"
   ]
  },
  {
   "cell_type": "code",
   "execution_count": 16,
   "metadata": {},
   "outputs": [
    {
     "name": "stderr",
     "output_type": "stream",
     "text": [
      "The frame size for reading (1080, 1920) is different from the source frame size (1920, 1080).\n"
     ]
    },
    {
     "data": {
      "text/plain": [
       "(10, 1920, 1080, 3)"
      ]
     },
     "execution_count": 16,
     "metadata": {},
     "output_type": "execute_result"
    }
   ],
   "source": [
    "video_file = 'IMG_0339_ext.mp4'\n",
    "video = load_video(video_file)\n",
    "video = video[0:10,:,:,:]\n",
    "video.shape"
   ]
  },
  {
   "cell_type": "code",
   "execution_count": 23,
   "metadata": {},
   "outputs": [
    {
     "name": "stdout",
     "output_type": "stream",
     "text": [
      "video\n",
      "[[82 84 86 88 89]\n",
      " [82 84 86 88 89]\n",
      " [82 84 86 88 89]\n",
      " [82 84 86 88 89]\n",
      " [82 84 86 88 89]]\n",
      "y channel frame 0\n",
      "[[0.28864706 0.2964902  0.30433333 0.31217647 0.31609804]\n",
      " [0.28864706 0.2964902  0.30433333 0.31217647 0.31609804]\n",
      " [0.28864706 0.2964902  0.30433333 0.31217647 0.31609804]\n",
      " [0.28864706 0.2964902  0.30433333 0.31217647 0.31609804]\n",
      " [0.28864706 0.2964902  0.30433333 0.31217647 0.31609804]]\n",
      "q channel frame 0\n",
      "[[0.03326655 0.03326655 0.03326655 0.03326655 0.03326655]\n",
      " [0.03326655 0.03326655 0.03326655 0.03326655 0.03326655]\n",
      " [0.03326655 0.03326655 0.03326655 0.03326655 0.03326655]\n",
      " [0.03326655 0.03326655 0.03326655 0.03326655 0.03326655]\n",
      " [0.03326655 0.03326655 0.03326655 0.03326655 0.03326655]]\n",
      "i channel frame 0\n",
      "[[0.00180276 0.00180276 0.00180276 0.00180276 0.00180276]\n",
      " [0.00180276 0.00180276 0.00180276 0.00180276 0.00180276]\n",
      " [0.00180276 0.00180276 0.00180276 0.00180276 0.00180276]\n",
      " [0.00180276 0.00180276 0.00180276 0.00180276 0.00180276]\n",
      " [0.00180276 0.00180276 0.00180276 0.00180276 0.00180276]]\n"
     ]
    },
    {
     "ename": "SyntaxError",
     "evalue": "'break' outside loop (789003267.py, line 24)",
     "output_type": "error",
     "traceback": [
      "\u001b[0;36m  Input \u001b[0;32mIn [23]\u001b[0;36m\u001b[0m\n\u001b[0;31m    break\u001b[0m\n\u001b[0m    ^\u001b[0m\n\u001b[0;31mSyntaxError\u001b[0m\u001b[0;31m:\u001b[0m 'break' outside loop\n"
     ]
    }
   ],
   "source": [
    "num_frames, h, w, num_channels = video.shape\n",
    "pyr_height = max_scf_pyr_height((h, w))\n",
    "\n",
    "filters = get_filters((h, w), 2**np.array(list(range(0,-pyr_height-1,-1)), dtype=float), 4)\n",
    "    \n",
    "yiq_video = np.zeros((num_frames, h, w, num_channels))\n",
    "fft_video = np.zeros((num_frames, h, w), dtype=complex64)\n",
    "\n",
    "for i in range(num_frames):\n",
    "    yiq_video[i] = rgb2yiq(video[i])\n",
    "    fft_video[i] = spfft.fftshift(spfft.fft2(yiq_video[i][:,:,0]))\n",
    "\n",
    "print('video')\n",
    "print(video[0,:5,:5,0])\n",
    "print('y channel frame 0')\n",
    "print(yiq_video[0,:5,:5,0])\n",
    "print('q channel frame 0')\n",
    "print(yiq_video[0,:5,:5,1])\n",
    "print('i channel frame 0')\n",
    "print(yiq_video[0,:5,:5,2])\n",
    "\n",
    "\n",
    "\n",
    "break\n",
    "\n",
    "\n",
    "\n",
    "\n",
    "magnified_y_channel = np.zeros((num_frames, h, w), dtype=complex64)\n",
    "dc_frame_index = 0\n",
    "\n",
    "    \n",
    "for i in range(1,len(filters)-1):\n",
    "    print(\"processing level \"+str(i))\n",
    "\n",
    "    dc_frame = spfft.ifft2(spfft.ifftshift(filters[i]*fft_video[dc_frame_index]))    \n",
    "    dc_frame_no_mag = dc_frame / np.abs(dc_frame)\n",
    "    dc_frame_phase = np.angle(dc_frame)\n",
    "\n",
    "    total = np.zeros(fft_video.shape, dtype=float)\n",
    "    filtered = np.zeros(fft_video.shape, dtype=complex64)\n",
    "\n",
    "    for j in range(num_frames):\n",
    "        filtered[j] = spfft.ifft2(spfft.ifftshift(filters[i]*fft_video[j]))\n",
    "        total[j] = simplify_phase(np.angle(filtered[j]) - dc_frame_phase)\n",
    "\n",
    "    print(\"bandpassing...\")\n",
    "    total = temporal_filter(total, fl/fs, fh/fs).astype(float)\n",
    "\n",
    "    for j in range(num_frames):\n",
    "        phase_of_frame = total[j]\n",
    "        if sigma != 0:\n",
    "            phase_of_frame = amplitude_weighted_blur(phase_of_frame, np.abs(filtered[j]), sigma)\n",
    "\n",
    "        phase_of_frame *= magnification_factor\n",
    "\n",
    "        if attenuate_other_frequencies:\n",
    "            temp_orig = np.abs(filtered[j])*dc_frame_no_mag\n",
    "        else:\n",
    "            temp_orig = filtered[j]\n",
    "        magnified_component = 2*filters[i]*spfft.fftshift(spfft.fft2(temp_orig*np.exp(1j*phase_of_frame)))\n",
    "\n",
    "        magnified_y_channel[j] = magnified_y_channel[j] + magnified_component\n",
    "\n",
    "for i in range(num_frames):\n",
    "        magnified_y_channel[i] = magnified_y_channel[i] + (fft_video[i]*(filters[-1]**2))\n",
    "\n",
    "out = np.zeros(yiq_video.shape[:-1])\n",
    "print(out.shape)\n",
    "\n",
    "for i in range(num_frames):\n",
    "    # color\n",
    "    out_frame  = np.dstack((np.real(spfft.ifft2(spfft.ifftshift(magnified_y_channel[i]))), yiq_video[i,:,:,1:3]))\n",
    "    out[i] = yiq2rgb(out_frame)\n",
    "    # monochrome\n",
    "    # out[i] = out_frame\n",
    "    # out_frame  = np.real(spfft.ifft2(spfft.ifftshift(magnified_y_channel[i])))\n",
    "\n"
   ]
  },
  {
   "cell_type": "code",
   "execution_count": 24,
   "metadata": {},
   "outputs": [
    {
     "data": {
      "text/plain": [
       "\u001b[0;31mSignature:\u001b[0m \u001b[0mrgb2yiq\u001b[0m\u001b[0;34m(\u001b[0m\u001b[0mimg\u001b[0m\u001b[0;34m)\u001b[0m\u001b[0;34m\u001b[0m\u001b[0;34m\u001b[0m\u001b[0m\n",
       "\u001b[0;31mDocstring:\u001b[0m <no docstring>\n",
       "\u001b[0;31mFile:\u001b[0m      ~/code/optimaize/magnifier_miscelaneous_code/video_motion_magnification_pyramid_tools/util.py\n",
       "\u001b[0;31mType:\u001b[0m      function\n"
      ]
     },
     "metadata": {},
     "output_type": "display_data"
    }
   ],
   "source": [
    "rgb2yiq?"
   ]
  },
  {
   "cell_type": "code",
   "execution_count": null,
   "metadata": {},
   "outputs": [],
   "source": []
  },
  {
   "cell_type": "code",
   "execution_count": null,
   "metadata": {},
   "outputs": [],
   "source": []
  }
 ],
 "metadata": {
  "kernelspec": {
   "display_name": "Python 3 (ipykernel)",
   "language": "python",
   "name": "python3"
  },
  "language_info": {
   "codemirror_mode": {
    "name": "ipython",
    "version": 3
   },
   "file_extension": ".py",
   "mimetype": "text/x-python",
   "name": "python",
   "nbconvert_exporter": "python",
   "pygments_lexer": "ipython3",
   "version": "3.8.6"
  }
 },
 "nbformat": 4,
 "nbformat_minor": 4
}
