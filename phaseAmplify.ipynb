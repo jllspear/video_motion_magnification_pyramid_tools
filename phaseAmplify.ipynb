{
 "cells": [
  {
   "cell_type": "code",
   "execution_count": 4,
   "metadata": {
    "collapsed": false,
    "jupyter": {
     "outputs_hidden": false
    }
   },
   "outputs": [
    {
     "name": "stdout",
     "output_type": "stream",
     "text": [
      "Populating the interactive namespace from numpy and matplotlib\n"
     ]
    },
    {
     "name": "stderr",
     "output_type": "stream",
     "text": [
      "C:\\Users\\Zheryu\\Anaconda3\\envs\\image-processing\\lib\\site-packages\\IPython\\core\\magics\\pylab.py:161: UserWarning: pylab import has clobbered these variables: ['ifft']\n",
      "`%matplotlib` prevents importing * from pylab and numpy\n",
      "  \"\\n`%matplotlib` prevents importing * from pylab and numpy\"\n"
     ]
    }
   ],
   "source": [
    "%pylab inline"
   ]
  },
  {
   "cell_type": "markdown",
   "metadata": {},
   "source": [
    "#### Import"
   ]
  },
  {
   "cell_type": "code",
   "execution_count": 1,
   "metadata": {
    "collapsed": false,
    "jupyter": {
     "outputs_hidden": false
    }
   },
   "outputs": [],
   "source": [
    "import numpy as np\n",
    "import pyfftw.interfaces.scipy_fftpack as spfft\n",
    "import scipy.signal as spsignal\n",
    "import skimage.transform as sktransform\n",
    "import matplotlib.pyplot as plt"
   ]
  },
  {
   "cell_type": "code",
   "execution_count": 2,
   "metadata": {
    "collapsed": false,
    "jupyter": {
     "outputs_hidden": false
    }
   },
   "outputs": [],
   "source": [
    "from filter_tools import *\n",
    "from util import *\n",
    "from pyramid_tools import *"
   ]
  },
  {
   "cell_type": "code",
   "execution_count": 3,
   "metadata": {},
   "outputs": [
    {
     "name": "stderr",
     "output_type": "stream",
     "text": [
      "<>:12: SyntaxWarning: \"is\" with a literal. Did you mean \"==\"?\n",
      "<>:15: SyntaxWarning: \"is\" with a literal. Did you mean \"==\"?\n",
      "<>:18: SyntaxWarning: \"is\" with a literal. Did you mean \"==\"?\n",
      "<>:21: SyntaxWarning: \"is\" with a literal. Did you mean \"==\"?\n",
      "<>:12: SyntaxWarning: \"is\" with a literal. Did you mean \"==\"?\n",
      "<>:15: SyntaxWarning: \"is\" with a literal. Did you mean \"==\"?\n",
      "<>:18: SyntaxWarning: \"is\" with a literal. Did you mean \"==\"?\n",
      "<>:21: SyntaxWarning: \"is\" with a literal. Did you mean \"==\"?\n",
      "/tmp/ipykernel_15376/321223522.py:12: SyntaxWarning: \"is\" with a literal. Did you mean \"==\"?\n",
      "  if pyr_type is \"octave\":\n",
      "/tmp/ipykernel_15376/321223522.py:15: SyntaxWarning: \"is\" with a literal. Did you mean \"==\"?\n",
      "  elif pyr_type is \"halfOctave\":\n",
      "/tmp/ipykernel_15376/321223522.py:18: SyntaxWarning: \"is\" with a literal. Did you mean \"==\"?\n",
      "  elif pyr_type is \"smoothHalfOctave\":\n",
      "/tmp/ipykernel_15376/321223522.py:21: SyntaxWarning: \"is\" with a literal. Did you mean \"==\"?\n",
      "  elif pyr_type is \"quarterOctave\":\n"
     ]
    }
   ],
   "source": [
    "    \n",
    "\n",
    "\n",
    "def phase_amplify(video, \n",
    "                  magnification_factor, \n",
    "                  fl, fh, fs, \n",
    "                  attenuate_other_frequencies=False, \n",
    "                  pyramid_type=\"octave\", \n",
    "                  sigma=0, \n",
    "                  temporal_filter=fir_window_bp\n",
    "                 ):\n",
    "    num_frames, h, w, num_channels = video.shape\n",
    "    pyr_height = max_scf_pyr_height((h, w))\n",
    "\n",
    "    if pyr_type is \"octave\":\n",
    "        print(\"Using vanilla octave pyramid\")\n",
    "        filters = get_filters((h, w), 2**np.array(list(range(0,-pyr_height-1,-1)), dtype=float), 4)\n",
    "    elif pyr_type is \"halfOctave\":\n",
    "        print(\"Using half octave pyramid\")\n",
    "        filters = get_filters((h, w), 2**np.array(list(range(0,-pyr_height-1,-1)), dtype=float), 8, t_width=0.75)\n",
    "    elif pyr_type is \"smoothHalfOctave\":\n",
    "        print(\"Using smooth half octave pyramid.\")\n",
    "        filters = get_filters_smooth_window((h, w), 8, filters_per_octave=2)\n",
    "    elif pyr_type is \"quarterOctave\":\n",
    "        print(\"Using quarter octave pyramid.\")\n",
    "        filters = get_filters_smooth_window((h, w), 8, filters_per_octave=4)\n",
    "    else:\n",
    "        print(\"Invalid filter type. Specify ocatave, halfOcatave, smoothHalfOctave, or quarterOctave\")\n",
    "        return None\n",
    "    print('Number of filters: ', len(filters))\n",
    "    \n",
    "    yiq_video = np.zeros((num_frames, h, w, num_channels))\n",
    "    fft_video = np.zeros((num_frames, h, w), dtype=complex64)\n",
    "\n",
    "    for i in range(num_frames):\n",
    "        yiq_video[i] = rgb2yiq(video[i])\n",
    "        fft_video[i] = spfft.fftshift(spfft.fft2(yiq_video[i][:,:,0]))\n",
    "\n",
    "    magnified_y_channel = np.zeros((num_frames, h, w), dtype=complex64)\n",
    "    dc_frame_index = 0\n",
    "\n",
    "    \n",
    "    for i in range(1,len(filters)-1):\n",
    "        print(\"processing level \"+str(i))\n",
    "\n",
    "        dc_frame = spfft.ifft2(spfft.ifftshift(filters[i]*fft_video[dc_frame_index]))    \n",
    "        dc_frame_no_mag = dc_frame / np.abs(dc_frame)\n",
    "        dc_frame_phase = np.angle(dc_frame)\n",
    "\n",
    "        total = np.zeros(fft_video.shape, dtype=float)\n",
    "        filtered = np.zeros(fft_video.shape, dtype=complex64)\n",
    "\n",
    "        for j in range(num_frames):\n",
    "            filtered[j] = spfft.ifft2(spfft.ifftshift(filters[i]*fft_video[j]))\n",
    "            total[j] = simplify_phase(np.angle(filtered[j]) - dc_frame_phase)\n",
    "\n",
    "        print(\"bandpassing...\")\n",
    "        total = temporal_filter(total, fl/fs, fh/fs).astype(float)\n",
    "\n",
    "        for j in range(num_frames):\n",
    "            phase_of_frame = total[j]\n",
    "            if sigma != 0:\n",
    "                phase_of_frame = amplitude_weighted_blur(phase_of_frame, np.abs(filtered[j]), sigma)\n",
    "\n",
    "            phase_of_frame *= magnification_factor\n",
    "\n",
    "            if attenuate_other_frequencies:\n",
    "                temp_orig = np.abs(filtered[j])*dc_frame_no_mag\n",
    "            else:\n",
    "                temp_orig = filtered[j]\n",
    "            magnified_component = 2*filters[i]*spfft.fftshift(spfft.fft2(temp_orig*np.exp(1j*phase_of_frame)))\n",
    "\n",
    "            magnified_y_channel[j] = magnified_y_channel[j] + magnified_component\n",
    "\n",
    "    for i in range(num_frames):\n",
    "            magnified_y_channel[i] = magnified_y_channel[i] + (fft_video[i]*(filters[-1]**2))\n",
    "\n",
    "    out = np.zeros(yiq_video.shape[:-1])\n",
    "    print(out.shape)\n",
    "\n",
    "    for i in range(num_frames):\n",
    "        # color\n",
    "        out_frame  = np.dstack((np.real(spfft.ifft2(spfft.ifftshift(magnified_y_channel[i]))), yiq_video[i,:,:,1:3]))\n",
    "        out[i] = yiq2rgb(out_frame)\n",
    "        # monochrome\n",
    "        # out[i] = out_frame\n",
    "        # out_frame  = np.real(spfft.ifft2(spfft.ifftshift(magnified_y_channel[i])))\n",
    "\n",
    "    return out.clip(min=0, max=1)\n"
   ]
  },
  {
   "cell_type": "markdown",
   "metadata": {},
   "source": [
    "### Load the resources"
   ]
  },
  {
   "cell_type": "code",
   "execution_count": 3,
   "metadata": {},
   "outputs": [
    {
     "name": "stderr",
     "output_type": "stream",
     "text": [
      "The frame size for reading (1080, 1920) is different from the source frame size (1920, 1080).\n"
     ]
    },
    {
     "data": {
      "text/plain": [
       "(243, 1920, 1080, 3)"
      ]
     },
     "execution_count": 3,
     "metadata": {},
     "output_type": "execute_result"
    }
   ],
   "source": [
    "video_file = 'IMG_0339_ext.MOV'\n",
    "video = load_video(video_file)\n",
    "video.shape"
   ]
  },
  {
   "cell_type": "code",
   "execution_count": 21,
   "metadata": {},
   "outputs": [
    {
     "data": {
      "text/plain": [
       "\u001b[0;31mSignature:\u001b[0m \u001b[0mload_video\u001b[0m\u001b[0;34m(\u001b[0m\u001b[0mfilename\u001b[0m\u001b[0;34m)\u001b[0m\u001b[0;34m\u001b[0m\u001b[0;34m\u001b[0m\u001b[0m\n",
       "\u001b[0;31mDocstring:\u001b[0m <no docstring>\n",
       "\u001b[0;31mFile:\u001b[0m      ~/code/optimaize/magnifier_miscelaneous_code/video_motion_magnification_pyramid_tools/util.py\n",
       "\u001b[0;31mType:\u001b[0m      function\n"
      ]
     },
     "metadata": {},
     "output_type": "display_data"
    }
   ],
   "source": [
    "load_video?"
   ]
  },
  {
   "cell_type": "code",
   "execution_count": 18,
   "metadata": {
    "collapsed": false,
    "jupyter": {
     "outputs_hidden": false
    }
   },
   "outputs": [],
   "source": [
    "magnification_factor = 50\n",
    "fl = 12\n",
    "fh = 18\n",
    "fs = 240\n",
    "attenuate_other_frequencies=False # False\n",
    "pyr_type = \"octave\"\n",
    "sigma = 5 # 5\n",
    "temporal_filter =  iir_butter #fir_window_bp, iir_butter\n"
   ]
  },
  {
   "cell_type": "markdown",
   "metadata": {},
   "source": [
    "#### Resize our video"
   ]
  },
  {
   "cell_type": "code",
   "execution_count": 15,
   "metadata": {
    "collapsed": false,
    "jupyter": {
     "outputs_hidden": false
    }
   },
   "outputs": [],
   "source": [
    "# video2 = np.zeros((len(video), 200, 200, 3))\n",
    "# for i in range(len(video)):\n",
    "#     video2[i] = sktransform.resize(video[i], (200,200))"
   ]
  },
  {
   "cell_type": "markdown",
   "metadata": {},
   "source": [
    "# RUN"
   ]
  },
  {
   "cell_type": "code",
   "execution_count": 19,
   "metadata": {
    "collapsed": true,
    "jupyter": {
     "outputs_hidden": true
    },
    "tags": []
   },
   "outputs": [
    {
     "name": "stdout",
     "output_type": "stream",
     "text": [
      "Using vanilla octave pyramid\n",
      "Number of filters:  30\n",
      "processing level 1\n",
      "bandpassing...\n",
      "Using bandpass filter (butter).\n",
      "processing level 2\n",
      "bandpassing...\n",
      "Using bandpass filter (butter).\n",
      "processing level 3\n",
      "bandpassing...\n",
      "Using bandpass filter (butter).\n",
      "processing level 4\n",
      "bandpassing...\n",
      "Using bandpass filter (butter).\n",
      "processing level 5\n",
      "bandpassing...\n",
      "Using bandpass filter (butter).\n",
      "processing level 6\n",
      "bandpassing...\n",
      "Using bandpass filter (butter).\n",
      "processing level 7\n",
      "bandpassing...\n",
      "Using bandpass filter (butter).\n",
      "processing level 8\n",
      "bandpassing...\n",
      "Using bandpass filter (butter).\n",
      "processing level 9\n",
      "bandpassing...\n",
      "Using bandpass filter (butter).\n",
      "processing level 10\n",
      "bandpassing...\n",
      "Using bandpass filter (butter).\n",
      "processing level 11\n",
      "bandpassing...\n",
      "Using bandpass filter (butter).\n",
      "processing level 12\n",
      "bandpassing...\n",
      "Using bandpass filter (butter).\n",
      "processing level 13\n",
      "bandpassing...\n",
      "Using bandpass filter (butter).\n",
      "processing level 14\n",
      "bandpassing...\n",
      "Using bandpass filter (butter).\n",
      "processing level 15\n",
      "bandpassing...\n",
      "Using bandpass filter (butter).\n",
      "processing level 16\n",
      "bandpassing...\n",
      "Using bandpass filter (butter).\n",
      "processing level 17\n",
      "bandpassing...\n",
      "Using bandpass filter (butter).\n",
      "processing level 18\n",
      "bandpassing...\n",
      "Using bandpass filter (butter).\n",
      "processing level 19\n",
      "bandpassing...\n",
      "Using bandpass filter (butter).\n",
      "processing level 20\n",
      "bandpassing...\n",
      "Using bandpass filter (butter).\n",
      "processing level 21\n",
      "bandpassing...\n",
      "Using bandpass filter (butter).\n",
      "processing level 22\n",
      "bandpassing...\n",
      "Using bandpass filter (butter).\n",
      "processing level 23\n",
      "bandpassing...\n",
      "Using bandpass filter (butter).\n",
      "processing level 24\n",
      "bandpassing...\n",
      "Using bandpass filter (butter).\n",
      "processing level 25\n",
      "bandpassing...\n",
      "Using bandpass filter (butter).\n",
      "processing level 26\n",
      "bandpassing...\n",
      "Using bandpass filter (butter).\n",
      "processing level 27\n",
      "bandpassing...\n",
      "Using bandpass filter (butter).\n",
      "processing level 28\n",
      "bandpassing...\n",
      "Using bandpass filter (butter).\n",
      "(60, 670, 1344)\n"
     ]
    }
   ],
   "source": [
    "video_out = phase_amplify(\n",
    "    video[200:260,:,:,:], \n",
    "    magnification_factor, \n",
    "    fl, \n",
    "    fh, \n",
    "    fs, \n",
    "    attenuate_other_frequencies=attenuate_other_frequencies, \n",
    "    pyramid_type=pyr_type, \n",
    "    sigma=sigma, \n",
    "    temporal_filter=temporal_filter\n",
    ")"
   ]
  },
  {
   "cell_type": "code",
   "execution_count": 20,
   "metadata": {
    "collapsed": true,
    "jupyter": {
     "outputs_hidden": true
    },
    "tags": []
   },
   "outputs": [
    {
     "name": "stderr",
     "output_type": "stream",
     "text": [
      "Lossy conversion from float64 to uint8. Range [0, 1]. Convert image to uint8 prior to saving to suppress this warning.\n",
      "IMAGEIO FFMPEG_WRITER WARNING: input image is not divisible by macro_block_size=16, resizing from (1344, 670) to (1344, 672) to ensure video compatibility with most codecs and players. To prevent resizing, make your input image divisible by the macro_block_size or set the macro_block_size to 1 (risking incompatibility).\n",
      "Lossy conversion from float64 to uint8. Range [0, 1]. Convert image to uint8 prior to saving to suppress this warning.\n",
      "Lossy conversion from float64 to uint8. Range [0, 1]. Convert image to uint8 prior to saving to suppress this warning.\n",
      "Lossy conversion from float64 to uint8. Range [0, 1]. Convert image to uint8 prior to saving to suppress this warning.\n",
      "Lossy conversion from float64 to uint8. Range [0, 1]. Convert image to uint8 prior to saving to suppress this warning.\n",
      "Lossy conversion from float64 to uint8. Range [0, 1]. Convert image to uint8 prior to saving to suppress this warning.\n",
      "Lossy conversion from float64 to uint8. Range [0, 1]. Convert image to uint8 prior to saving to suppress this warning.\n",
      "Lossy conversion from float64 to uint8. Range [0, 1]. Convert image to uint8 prior to saving to suppress this warning.\n",
      "Lossy conversion from float64 to uint8. Range [0, 1]. Convert image to uint8 prior to saving to suppress this warning.\n",
      "Lossy conversion from float64 to uint8. Range [0, 1]. Convert image to uint8 prior to saving to suppress this warning.\n",
      "Lossy conversion from float64 to uint8. Range [0, 1]. Convert image to uint8 prior to saving to suppress this warning.\n",
      "Lossy conversion from float64 to uint8. Range [0, 1]. Convert image to uint8 prior to saving to suppress this warning.\n",
      "Lossy conversion from float64 to uint8. Range [0, 1]. Convert image to uint8 prior to saving to suppress this warning.\n",
      "Lossy conversion from float64 to uint8. Range [0, 1]. Convert image to uint8 prior to saving to suppress this warning.\n",
      "Lossy conversion from float64 to uint8. Range [0, 1]. Convert image to uint8 prior to saving to suppress this warning.\n",
      "Lossy conversion from float64 to uint8. Range [0, 1]. Convert image to uint8 prior to saving to suppress this warning.\n",
      "Lossy conversion from float64 to uint8. Range [0, 1]. Convert image to uint8 prior to saving to suppress this warning.\n",
      "Lossy conversion from float64 to uint8. Range [0, 1]. Convert image to uint8 prior to saving to suppress this warning.\n",
      "Lossy conversion from float64 to uint8. Range [0, 1]. Convert image to uint8 prior to saving to suppress this warning.\n",
      "Lossy conversion from float64 to uint8. Range [0, 1]. Convert image to uint8 prior to saving to suppress this warning.\n",
      "Lossy conversion from float64 to uint8. Range [0, 1]. Convert image to uint8 prior to saving to suppress this warning.\n",
      "Lossy conversion from float64 to uint8. Range [0, 1]. Convert image to uint8 prior to saving to suppress this warning.\n",
      "Lossy conversion from float64 to uint8. Range [0, 1]. Convert image to uint8 prior to saving to suppress this warning.\n",
      "Lossy conversion from float64 to uint8. Range [0, 1]. Convert image to uint8 prior to saving to suppress this warning.\n",
      "Lossy conversion from float64 to uint8. Range [0, 1]. Convert image to uint8 prior to saving to suppress this warning.\n",
      "Lossy conversion from float64 to uint8. Range [0, 1]. Convert image to uint8 prior to saving to suppress this warning.\n",
      "Lossy conversion from float64 to uint8. Range [0, 1]. Convert image to uint8 prior to saving to suppress this warning.\n",
      "Lossy conversion from float64 to uint8. Range [0, 1]. Convert image to uint8 prior to saving to suppress this warning.\n",
      "Lossy conversion from float64 to uint8. Range [0, 1]. Convert image to uint8 prior to saving to suppress this warning.\n",
      "Lossy conversion from float64 to uint8. Range [0, 1]. Convert image to uint8 prior to saving to suppress this warning.\n",
      "Lossy conversion from float64 to uint8. Range [0, 1]. Convert image to uint8 prior to saving to suppress this warning.\n",
      "Lossy conversion from float64 to uint8. Range [0, 1]. Convert image to uint8 prior to saving to suppress this warning.\n",
      "Lossy conversion from float64 to uint8. Range [0, 1]. Convert image to uint8 prior to saving to suppress this warning.\n",
      "Lossy conversion from float64 to uint8. Range [0, 1]. Convert image to uint8 prior to saving to suppress this warning.\n",
      "Lossy conversion from float64 to uint8. Range [0, 1]. Convert image to uint8 prior to saving to suppress this warning.\n",
      "Lossy conversion from float64 to uint8. Range [0, 1]. Convert image to uint8 prior to saving to suppress this warning.\n",
      "Lossy conversion from float64 to uint8. Range [0, 1]. Convert image to uint8 prior to saving to suppress this warning.\n",
      "Lossy conversion from float64 to uint8. Range [0, 1]. Convert image to uint8 prior to saving to suppress this warning.\n",
      "Lossy conversion from float64 to uint8. Range [0, 1]. Convert image to uint8 prior to saving to suppress this warning.\n",
      "Lossy conversion from float64 to uint8. Range [0, 1]. Convert image to uint8 prior to saving to suppress this warning.\n",
      "Lossy conversion from float64 to uint8. Range [0, 1]. Convert image to uint8 prior to saving to suppress this warning.\n",
      "Lossy conversion from float64 to uint8. Range [0, 1]. Convert image to uint8 prior to saving to suppress this warning.\n",
      "Lossy conversion from float64 to uint8. Range [0, 1]. Convert image to uint8 prior to saving to suppress this warning.\n",
      "Lossy conversion from float64 to uint8. Range [0, 1]. Convert image to uint8 prior to saving to suppress this warning.\n",
      "Lossy conversion from float64 to uint8. Range [0, 1]. Convert image to uint8 prior to saving to suppress this warning.\n",
      "Lossy conversion from float64 to uint8. Range [0, 1]. Convert image to uint8 prior to saving to suppress this warning.\n",
      "Lossy conversion from float64 to uint8. Range [0, 1]. Convert image to uint8 prior to saving to suppress this warning.\n",
      "Lossy conversion from float64 to uint8. Range [0, 1]. Convert image to uint8 prior to saving to suppress this warning.\n",
      "Lossy conversion from float64 to uint8. Range [0, 1]. Convert image to uint8 prior to saving to suppress this warning.\n",
      "Lossy conversion from float64 to uint8. Range [0, 1]. Convert image to uint8 prior to saving to suppress this warning.\n",
      "Lossy conversion from float64 to uint8. Range [0, 1]. Convert image to uint8 prior to saving to suppress this warning.\n",
      "Lossy conversion from float64 to uint8. Range [0, 1]. Convert image to uint8 prior to saving to suppress this warning.\n",
      "Lossy conversion from float64 to uint8. Range [0, 1]. Convert image to uint8 prior to saving to suppress this warning.\n",
      "Lossy conversion from float64 to uint8. Range [0, 1]. Convert image to uint8 prior to saving to suppress this warning.\n",
      "Lossy conversion from float64 to uint8. Range [0, 1]. Convert image to uint8 prior to saving to suppress this warning.\n",
      "Lossy conversion from float64 to uint8. Range [0, 1]. Convert image to uint8 prior to saving to suppress this warning.\n",
      "Lossy conversion from float64 to uint8. Range [0, 1]. Convert image to uint8 prior to saving to suppress this warning.\n",
      "Lossy conversion from float64 to uint8. Range [0, 1]. Convert image to uint8 prior to saving to suppress this warning.\n",
      "Lossy conversion from float64 to uint8. Range [0, 1]. Convert image to uint8 prior to saving to suppress this warning.\n",
      "Lossy conversion from float64 to uint8. Range [0, 1]. Convert image to uint8 prior to saving to suppress this warning.\n"
     ]
    }
   ],
   "source": [
    "fps = 30\n",
    "video_out_name = 'IMG_0368_out_octave_50x_12-18Hz_5sig_iir_butter_bp_grayscale.mp4'\n",
    "write_video(video_out, fps, video_out_name)"
   ]
  },
  {
   "cell_type": "code",
   "execution_count": null,
   "metadata": {},
   "outputs": [],
   "source": []
  },
  {
   "cell_type": "code",
   "execution_count": null,
   "metadata": {},
   "outputs": [],
   "source": []
  },
  {
   "cell_type": "markdown",
   "metadata": {},
   "source": [
    "# TESTS"
   ]
  },
  {
   "cell_type": "code",
   "execution_count": 25,
   "metadata": {},
   "outputs": [
    {
     "name": "stderr",
     "output_type": "stream",
     "text": [
      "The frame size for reading (1080, 1920) is different from the source frame size (1920, 1080).\n"
     ]
    },
    {
     "data": {
      "text/plain": [
       "(10, 100, 100, 3)"
      ]
     },
     "execution_count": 25,
     "metadata": {},
     "output_type": "execute_result"
    }
   ],
   "source": [
    "video_file = 'IMG_0339_ext.mp4'\n",
    "video = load_video(video_file)\n",
    "video = video[0:10,:100,:100,:]\n",
    "video.shape"
   ]
  },
  {
   "cell_type": "code",
   "execution_count": 34,
   "metadata": {},
   "outputs": [
    {
     "name": "stdout",
     "output_type": "stream",
     "text": [
      "video\n",
      "[[82 84 86 88 89]\n",
      " [82 84 86 88 89]\n",
      " [82 84 86 88 89]\n",
      " [82 84 86 88 89]\n",
      " [82 84 86 88 89]]\n",
      "y channel frame 0\n",
      "[[0.28864706 0.2964902  0.30433333 0.31217647 0.31609804]\n",
      " [0.28864706 0.2964902  0.30433333 0.31217647 0.31609804]\n",
      " [0.28864706 0.2964902  0.30433333 0.31217647 0.31609804]\n",
      " [0.28864706 0.2964902  0.30433333 0.31217647 0.31609804]\n",
      " [0.28864706 0.2964902  0.30433333 0.31217647 0.31609804]]\n",
      "q channel frame 0\n",
      "[[0.03326655 0.03326655 0.03326655 0.03326655 0.03326655]\n",
      " [0.03326655 0.03326655 0.03326655 0.03326655 0.03326655]\n",
      " [0.03326655 0.03326655 0.03326655 0.03326655 0.03326655]\n",
      " [0.03326655 0.03326655 0.03326655 0.03326655 0.03326655]\n",
      " [0.03326655 0.03326655 0.03326655 0.03326655 0.03326655]]\n",
      "i channel frame 0\n",
      "[[0.00180276 0.00180276 0.00180276 0.00180276 0.00180276]\n",
      " [0.00180276 0.00180276 0.00180276 0.00180276 0.00180276]\n",
      " [0.00180276 0.00180276 0.00180276 0.00180276 0.00180276]\n",
      " [0.00180276 0.00180276 0.00180276 0.00180276 0.00180276]\n",
      " [0.00180276 0.00180276 0.00180276 0.00180276 0.00180276]]\n",
      "fft_video\n",
      "frame 0\n",
      "[[ 0.03740392+0.j          0.07497124+0.1456051j  -0.19869381+0.0218726j ]\n",
      " [ 0.10775416-0.3128458j   0.04557453+0.2382194j  -0.02551279-0.05926504j]\n",
      " [ 0.04792348+0.02243389j -0.2658027 -0.12640527j  0.21182962-0.14795934j]]\n",
      "frame 2\n",
      "[[ 0.0703098 +0.0000000e+00j  0.02852199+2.7429335e-02j\n",
      "  -0.19849966+2.6086539e-02j]\n",
      " [ 0.24438795-2.3593351e-01j  0.02752913+2.1452996e-01j\n",
      "   0.09971576+2.2184637e-05j]\n",
      " [-0.08997051+2.5735146e-01j -0.05778304-3.8956407e-01j\n",
      "   0.05858539+9.9016111e-03j]]\n",
      "\n",
      "Filters applied to first frame\n",
      "0\n",
      "[[-0.03574703-1.55431223e-19j  0.01544944+6.58260820e-19j\n",
      "   0.00398659+6.51416014e-19j]\n",
      " [-0.04921001+3.59498798e-18j  0.01794573+6.54829238e-19j\n",
      "  -0.00095312+2.00040285e-18j]\n",
      " [-0.03459713+4.00192448e-18j  0.02228422-2.45961638e-18j\n",
      "  -0.00075336+1.89947382e-18j]]\n",
      "\n",
      "1\n",
      "[[-0.0158415 +0.01243814j -0.00950927-0.01232114j  0.00571485-0.00574889j]\n",
      " [-0.02201375+0.01725452j -0.0133473 -0.01749098j  0.00842831-0.00831004j]\n",
      " [-0.02285291+0.01699191j -0.01293957-0.0188386j   0.00953601-0.00842431j]]\n",
      "\n",
      "2\n",
      "[[ 7.66219957e-03+0.0157348j  -6.08922585e-03+0.00386697j\n",
      "  -1.60521663e-03-0.00345568j]\n",
      " [-1.09102158e-02+0.01876184j -1.18214401e-02-0.00223997j\n",
      "   2.32713607e-05-0.00456441j]\n",
      " [-1.57386442e-02+0.0064684j  -9.16404210e-03-0.00916646j\n",
      "   1.92416411e-03-0.00543009j]]\n",
      "\n",
      "3\n",
      "[[ 0.01001344-0.00831877j  0.00302831-0.00187463j  0.00177453-0.00100092j]\n",
      " [ 0.00533455+0.0090709j   0.00067634+0.0037459j   0.00032498+0.00221263j]\n",
      " [-0.00537873+0.00363474j -0.00302889+0.00084797j -0.00199595+0.00040928j]]\n",
      "\n",
      "4\n",
      "[[-0.01565519-0.00730398j -0.00353024+0.00824559j  0.00533335+0.00149874j]\n",
      " [-0.00648054-0.00823089j -0.00386455+0.00685524j  0.00424787+0.0032068j ]\n",
      " [-0.00637938-0.00534059j -0.00422529+0.00646862j  0.00313561+0.00285011j]]\n",
      "\n",
      "5\n",
      "[[-0.01318623+0.00921095j -0.01525981-0.00372391j -0.00681675-0.01307164j]\n",
      " [-0.0175216 +0.01416916j -0.02157043-0.00272874j -0.01190302-0.01587557j]\n",
      " [-0.02049332+0.01748758j -0.02589377-0.0021429j  -0.01533565-0.01787705j]]\n",
      "\n",
      "6\n",
      "[[ 0.01372718+0.00953235j  0.00396177+0.00983922j -0.00193909+0.00553203j]\n",
      " [ 0.00758029+0.01946512j -0.00292457+0.01434022j -0.00684699+0.00587055j]\n",
      " [-0.00351134+0.02291479j -0.011565  +0.01345337j -0.01165013+0.00289289j]]\n",
      "\n",
      "7\n",
      "[[0.0073933 -0.01565056j 0.00486585-0.00927261j 0.00308786-0.00524924j]\n",
      " [0.01591673-0.00467047j 0.00993891-0.0021703j  0.00592141-0.00086354j]\n",
      " [0.01293356+0.00773686j 0.00764252+0.00556942j 0.00428933+0.00370707j]]\n",
      "\n",
      "8\n",
      "[[-0.01932042-0.00504182j -0.013909  +0.00648708j -0.00332507+0.01134122j]\n",
      " [-0.01308595-0.0101937j  -0.01216237+0.00225702j -0.00393367+0.0096355j ]\n",
      " [-0.0074528 -0.00968021j -0.00971059+0.0012958j  -0.00390086+0.00920374j]]\n",
      "\n",
      "9\n",
      "[[-0.00986436+0.02682896j -0.01694904+0.02116743j -0.02122611+0.01374354j]\n",
      " [-0.01233887+0.02773605j -0.01939268+0.02071288j -0.02294492+0.01206371j]\n",
      " [-0.01458226+0.0282172j  -0.02150821+0.020004j   -0.02432847+0.01031425j]]\n",
      "\n",
      "10\n",
      "[[ 0.01338621+0.00951786j  0.00747482+0.00935821j  0.0029926 +0.0068762j ]\n",
      " [ 0.01302126+0.0155627j   0.00649201+0.0143473j   0.00182989+0.01095889j]\n",
      " [ 0.01019865+0.02134428j  0.00337318+0.01882309j -0.00118452+0.01436793j]]\n",
      "\n",
      "11\n",
      "[[0.0049478 -0.02062045j 0.00384615-0.01619901j 0.00271934-0.01177487j]\n",
      " [0.01236636-0.01687317j 0.00971394-0.01320462j 0.00702293-0.0095627j ]\n",
      " [0.01736506-0.01048292j 0.01363671-0.00811336j 0.0098751 -0.00580539j]]\n",
      "\n",
      "12\n",
      "[[-0.01585576-0.01769266j -0.01708147-0.01360663j -0.01730433-0.01015219j]\n",
      " [-0.01108896-0.02095384j -0.01321536-0.01699724j -0.01408456-0.01352276j]\n",
      " [-0.00577662-0.0220117j  -0.00859164-0.01846009j -0.00994713-0.01520755j]]\n",
      "\n",
      "13\n",
      "[[-0.00632342+0.0619989j  -0.01822562+0.06104553j -0.02983532+0.05763413j]\n",
      " [-0.00497023+0.06614986j -0.01757231+0.06528417j -0.02987308+0.06184191j]\n",
      " [-0.00380702+0.07019736j -0.01707956+0.06938963j -0.03003779+0.06589448j]]\n",
      "\n",
      "14\n",
      "[[0.03746686+0.00274951j 0.03476886+0.00884235j 0.03113561+0.01408673j]\n",
      " [0.03952484+0.00828182j 0.03593667+0.01447454j 0.03142832+0.01967746j]\n",
      " [0.04074557+0.01408162j 0.03625922+0.0202407j  0.03088881+0.02527117j]]\n",
      "\n",
      "15\n",
      "[[0.00221933-0.01427105j 0.00228305-0.01153568j 0.00224235-0.00865143j]\n",
      " [0.00487136-0.01376558j 0.00445357-0.01107995j 0.00390444-0.0082652j ]\n",
      " [0.00737113-0.0127064j  0.00649655-0.01016718j 0.00546827-0.00752393j]]\n",
      "\n",
      "16\n",
      "[[-0.03119524-0.03811224j -0.03708657-0.03326755j -0.0421384 -0.02738372j]\n",
      " [-0.02862246-0.04109097j -0.03496957-0.03656999j -0.04052667-0.03093509j]\n",
      " [-0.0256496 -0.04354625j -0.03238455-0.03940988j -0.03838878-0.03409569j]]\n",
      "\n",
      "17\n",
      "[[0.32301032-3.00204306e-17j 0.32795818-2.43360887e-17j\n",
      "  0.33515182-4.72955008e-17j]\n",
      " [0.32787388-2.98427949e-17j 0.33237879-2.39808173e-17j\n",
      "  0.33908123-4.67181849e-17j]\n",
      " [0.33277916-3.49942297e-17j 0.33683148-2.91322522e-17j\n",
      "  0.34303411-4.64517314e-17j]]\n",
      "\n",
      "\n"
     ]
    },
    {
     "ename": "SyntaxError",
     "evalue": "'break' outside loop (1250648459.py, line 40)",
     "output_type": "error",
     "traceback": [
      "\u001b[0;36m  Input \u001b[0;32mIn [34]\u001b[0;36m\u001b[0m\n\u001b[0;31m    break\u001b[0m\n\u001b[0m    ^\u001b[0m\n\u001b[0;31mSyntaxError\u001b[0m\u001b[0;31m:\u001b[0m 'break' outside loop\n"
     ]
    }
   ],
   "source": [
    "num_frames, h, w, num_channels = video.shape\n",
    "pyr_height = max_scf_pyr_height((h, w))\n",
    "\n",
    "filters = get_filters((h, w), 2**np.array(list(range(0,-pyr_height-1,-1)), dtype=float), 4)\n",
    "    \n",
    "yiq_video = np.zeros((num_frames, h, w, num_channels))\n",
    "fft_video = np.zeros((num_frames, h, w), dtype=complex64)\n",
    "\n",
    "for i in range(num_frames):\n",
    "    yiq_video[i] = rgb2yiq(video[i])\n",
    "    fft_video[i] = spfft.fftshift(spfft.fft2(yiq_video[i][:,:,0]))\n",
    "\n",
    "print('video')\n",
    "print(video[0,:5,:5,0])\n",
    "print('y channel frame 0')\n",
    "print(yiq_video[0,:5,:5,0])\n",
    "print('q channel frame 0')\n",
    "print(yiq_video[0,:5,:5,1])\n",
    "print('i channel frame 0')\n",
    "print(yiq_video[0,:5,:5,2])\n",
    "\n",
    "print('fft_video')\n",
    "print('frame 0')\n",
    "print(fft_video[0,:3,:3])\n",
    "print('frame 2')\n",
    "print(fft_video[2,:3,:3])\n",
    "\n",
    "print()\n",
    "print('Filters applied to first frame')\n",
    "dc_frame_index = 0\n",
    "for i in range(len(filters)):\n",
    "    dc_frame = spfft.ifft2(spfft.ifftshift(filters[i]*fft_video[dc_frame_index]))    \n",
    "    # dc_frame_no_mag = dc_frame / np.abs(dc_frame)\n",
    "    # dc_frame_phase = np.angle(dc_frame)\n",
    "    print(i)\n",
    "    print(dc_frame[:3,:3])\n",
    "    print()\n",
    "    \n",
    "print('')\n",
    "break\n",
    "\n",
    "\n",
    "\n",
    "\n",
    "magnified_y_channel = np.zeros((num_frames, h, w), dtype=complex64)\n",
    "dc_frame_index = 0\n",
    "\n",
    "    \n",
    "for i in range(1,len(filters)-1):\n",
    "    print(\"processing level \"+str(i))\n",
    "\n",
    "    dc_frame = spfft.ifft2(spfft.ifftshift(filters[i]*fft_video[dc_frame_index]))    \n",
    "    dc_frame_no_mag = dc_frame / np.abs(dc_frame)\n",
    "    dc_frame_phase = np.angle(dc_frame)\n",
    "\n",
    "    total = np.zeros(fft_video.shape, dtype=float)\n",
    "    filtered = np.zeros(fft_video.shape, dtype=complex64)\n",
    "\n",
    "    for j in range(num_frames):\n",
    "        filtered[j] = spfft.ifft2(spfft.ifftshift(filters[i]*fft_video[j]))\n",
    "        total[j] = simplify_phase(np.angle(filtered[j]) - dc_frame_phase)\n",
    "\n",
    "    print(\"bandpassing...\")\n",
    "    total = temporal_filter(total, fl/fs, fh/fs).astype(float)\n",
    "\n",
    "    for j in range(num_frames):\n",
    "        phase_of_frame = total[j]\n",
    "        if sigma != 0:\n",
    "            phase_of_frame = amplitude_weighted_blur(phase_of_frame, np.abs(filtered[j]), sigma)\n",
    "\n",
    "        phase_of_frame *= magnification_factor\n",
    "\n",
    "        if attenuate_other_frequencies:\n",
    "            temp_orig = np.abs(filtered[j])*dc_frame_no_mag\n",
    "        else:\n",
    "            temp_orig = filtered[j]\n",
    "        magnified_component = 2*filters[i]*spfft.fftshift(spfft.fft2(temp_orig*np.exp(1j*phase_of_frame)))\n",
    "\n",
    "        magnified_y_channel[j] = magnified_y_channel[j] + magnified_component\n",
    "\n",
    "for i in range(num_frames):\n",
    "        magnified_y_channel[i] = magnified_y_channel[i] + (fft_video[i]*(filters[-1]**2))\n",
    "\n",
    "out = np.zeros(yiq_video.shape[:-1])\n",
    "print(out.shape)\n",
    "\n",
    "for i in range(num_frames):\n",
    "    # color\n",
    "    out_frame  = np.dstack((np.real(spfft.ifft2(spfft.ifftshift(magnified_y_channel[i]))), yiq_video[i,:,:,1:3]))\n",
    "    out[i] = yiq2rgb(out_frame)\n",
    "    # monochrome\n",
    "    # out[i] = out_frame\n",
    "    # out_frame  = np.real(spfft.ifft2(spfft.ifftshift(magnified_y_channel[i])))\n",
    "\n"
   ]
  },
  {
   "cell_type": "code",
   "execution_count": 24,
   "metadata": {},
   "outputs": [
    {
     "data": {
      "text/plain": [
       "\u001b[0;31mSignature:\u001b[0m \u001b[0mrgb2yiq\u001b[0m\u001b[0;34m(\u001b[0m\u001b[0mimg\u001b[0m\u001b[0;34m)\u001b[0m\u001b[0;34m\u001b[0m\u001b[0;34m\u001b[0m\u001b[0m\n",
       "\u001b[0;31mDocstring:\u001b[0m <no docstring>\n",
       "\u001b[0;31mFile:\u001b[0m      ~/code/optimaize/magnifier_miscelaneous_code/video_motion_magnification_pyramid_tools/util.py\n",
       "\u001b[0;31mType:\u001b[0m      function\n"
      ]
     },
     "metadata": {},
     "output_type": "display_data"
    }
   ],
   "source": [
    "rgb2yiq?"
   ]
  },
  {
   "cell_type": "code",
   "execution_count": null,
   "metadata": {},
   "outputs": [],
   "source": []
  },
  {
   "cell_type": "code",
   "execution_count": null,
   "metadata": {},
   "outputs": [],
   "source": []
  }
 ],
 "metadata": {
  "kernelspec": {
   "display_name": "Python 3 (ipykernel)",
   "language": "python",
   "name": "python3"
  },
  "language_info": {
   "codemirror_mode": {
    "name": "ipython",
    "version": 3
   },
   "file_extension": ".py",
   "mimetype": "text/x-python",
   "name": "python",
   "nbconvert_exporter": "python",
   "pygments_lexer": "ipython3",
   "version": "3.8.6"
  }
 },
 "nbformat": 4,
 "nbformat_minor": 4
}
